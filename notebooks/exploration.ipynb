{
 "cells": [
  {
   "attachments": {},
   "cell_type": "markdown",
   "metadata": {},
   "source": [
    "Responsible AI - Project on algorithmic fairness"
   ]
  },
  {
   "cell_type": "code",
   "execution_count": 4,
   "metadata": {},
   "outputs": [],
   "source": [
    "import  pandas as pd\n",
    "import  numpy as np\n",
    "import  matplotlib.pyplot as plt\n",
    "import  seaborn as sns"
   ]
  },
  {
   "cell_type": "code",
   "execution_count": 5,
   "metadata": {},
   "outputs": [],
   "source": [
    "# read data from csv file\n",
    "df = pd.read_csv('data/catalan-juvenile-recidivism-subset.csv')"
   ]
  },
  {
   "cell_type": "markdown",
   "metadata": {},
   "source": []
  },
  {
   "cell_type": "code",
   "execution_count": 6,
   "metadata": {},
   "outputs": [
    {
     "data": {
      "text/html": [
       "<div>\n",
       "<style scoped>\n",
       "    .dataframe tbody tr th:only-of-type {\n",
       "        vertical-align: middle;\n",
       "    }\n",
       "\n",
       "    .dataframe tbody tr th {\n",
       "        vertical-align: top;\n",
       "    }\n",
       "\n",
       "    .dataframe thead th {\n",
       "        text-align: right;\n",
       "    }\n",
       "</style>\n",
       "<table border=\"1\" class=\"dataframe\">\n",
       "  <thead>\n",
       "    <tr style=\"text-align: right;\">\n",
       "      <th></th>\n",
       "      <th>id</th>\n",
       "      <th>V1_sex</th>\n",
       "      <th>V4_area_origin</th>\n",
       "      <th>V6_province</th>\n",
       "      <th>V8_age</th>\n",
       "      <th>V9_age_at_program_end</th>\n",
       "      <th>V11_criminal_record</th>\n",
       "      <th>V12_n_criminal_record</th>\n",
       "      <th>V13_n_crime_cat</th>\n",
       "      <th>V15_main_crime_cat</th>\n",
       "      <th>...</th>\n",
       "      <th>V28_days_from_crime_to_program</th>\n",
       "      <th>V29_program_duration</th>\n",
       "      <th>V115_RECID2015_recid</th>\n",
       "      <th>V10_date_of_birth_year</th>\n",
       "      <th>V10_date_of_birth_month</th>\n",
       "      <th>V22_main_crime_date_year</th>\n",
       "      <th>V22_main_crime_date_month</th>\n",
       "      <th>V30_program_start_year</th>\n",
       "      <th>V30_program_start_month</th>\n",
       "      <th>V31_program_end_month</th>\n",
       "    </tr>\n",
       "  </thead>\n",
       "  <tbody>\n",
       "    <tr>\n",
       "      <th>0</th>\n",
       "      <td>691</td>\n",
       "      <td>male</td>\n",
       "      <td>Spain</td>\n",
       "      <td>Lleida</td>\n",
       "      <td>15</td>\n",
       "      <td>17</td>\n",
       "      <td>1</td>\n",
       "      <td>1-2</td>\n",
       "      <td>3+</td>\n",
       "      <td>Against People</td>\n",
       "      <td>...</td>\n",
       "      <td>587.0</td>\n",
       "      <td>132</td>\n",
       "      <td>1</td>\n",
       "      <td>1992</td>\n",
       "      <td>11</td>\n",
       "      <td>2008</td>\n",
       "      <td>8</td>\n",
       "      <td>2010</td>\n",
       "      <td>4</td>\n",
       "      <td>8</td>\n",
       "    </tr>\n",
       "    <tr>\n",
       "      <th>1</th>\n",
       "      <td>956</td>\n",
       "      <td>female</td>\n",
       "      <td>Spain</td>\n",
       "      <td>Barcelona</td>\n",
       "      <td>14</td>\n",
       "      <td>15</td>\n",
       "      <td>1</td>\n",
       "      <td>1-2</td>\n",
       "      <td>2</td>\n",
       "      <td>Against People</td>\n",
       "      <td>...</td>\n",
       "      <td>107.0</td>\n",
       "      <td>258</td>\n",
       "      <td>1</td>\n",
       "      <td>1995</td>\n",
       "      <td>7</td>\n",
       "      <td>2009</td>\n",
       "      <td>8</td>\n",
       "      <td>2009</td>\n",
       "      <td>12</td>\n",
       "      <td>8</td>\n",
       "    </tr>\n",
       "    <tr>\n",
       "      <th>2</th>\n",
       "      <td>2560</td>\n",
       "      <td>male</td>\n",
       "      <td>Maghreb</td>\n",
       "      <td>Barcelona</td>\n",
       "      <td>15</td>\n",
       "      <td>16</td>\n",
       "      <td>1</td>\n",
       "      <td>3-5</td>\n",
       "      <td>3+</td>\n",
       "      <td>Against People</td>\n",
       "      <td>...</td>\n",
       "      <td>135.0</td>\n",
       "      <td>85</td>\n",
       "      <td>1</td>\n",
       "      <td>1994</td>\n",
       "      <td>1</td>\n",
       "      <td>2009</td>\n",
       "      <td>11</td>\n",
       "      <td>2010</td>\n",
       "      <td>3</td>\n",
       "      <td>6</td>\n",
       "    </tr>\n",
       "    <tr>\n",
       "      <th>3</th>\n",
       "      <td>2018</td>\n",
       "      <td>male</td>\n",
       "      <td>Maghreb</td>\n",
       "      <td>Girona</td>\n",
       "      <td>14</td>\n",
       "      <td>15</td>\n",
       "      <td>1</td>\n",
       "      <td>5+</td>\n",
       "      <td>2</td>\n",
       "      <td>Against People</td>\n",
       "      <td>...</td>\n",
       "      <td>176.0</td>\n",
       "      <td>271</td>\n",
       "      <td>1</td>\n",
       "      <td>1994</td>\n",
       "      <td>4</td>\n",
       "      <td>2009</td>\n",
       "      <td>1</td>\n",
       "      <td>2009</td>\n",
       "      <td>6</td>\n",
       "      <td>3</td>\n",
       "    </tr>\n",
       "    <tr>\n",
       "      <th>4</th>\n",
       "      <td>1650</td>\n",
       "      <td>male</td>\n",
       "      <td>Spain</td>\n",
       "      <td>Tarragona</td>\n",
       "      <td>17</td>\n",
       "      <td>20</td>\n",
       "      <td>1</td>\n",
       "      <td>5+</td>\n",
       "      <td>3+</td>\n",
       "      <td>Against People</td>\n",
       "      <td>...</td>\n",
       "      <td>261.0</td>\n",
       "      <td>533</td>\n",
       "      <td>1</td>\n",
       "      <td>1990</td>\n",
       "      <td>9</td>\n",
       "      <td>2008</td>\n",
       "      <td>9</td>\n",
       "      <td>2009</td>\n",
       "      <td>5</td>\n",
       "      <td>11</td>\n",
       "    </tr>\n",
       "  </tbody>\n",
       "</table>\n",
       "<p>5 rows × 29 columns</p>\n",
       "</div>"
      ],
      "text/plain": [
       "     id  V1_sex V4_area_origin V6_province  V8_age  V9_age_at_program_end  \\\n",
       "0   691    male          Spain      Lleida      15                     17   \n",
       "1   956  female          Spain   Barcelona      14                     15   \n",
       "2  2560    male        Maghreb   Barcelona      15                     16   \n",
       "3  2018    male        Maghreb      Girona      14                     15   \n",
       "4  1650    male          Spain   Tarragona      17                     20   \n",
       "\n",
       "   V11_criminal_record V12_n_criminal_record V13_n_crime_cat  \\\n",
       "0                    1                   1-2              3+   \n",
       "1                    1                   1-2               2   \n",
       "2                    1                   3-5              3+   \n",
       "3                    1                    5+               2   \n",
       "4                    1                    5+              3+   \n",
       "\n",
       "  V15_main_crime_cat  ...  V28_days_from_crime_to_program  \\\n",
       "0     Against People  ...                           587.0   \n",
       "1     Against People  ...                           107.0   \n",
       "2     Against People  ...                           135.0   \n",
       "3     Against People  ...                           176.0   \n",
       "4     Against People  ...                           261.0   \n",
       "\n",
       "   V29_program_duration V115_RECID2015_recid  V10_date_of_birth_year  \\\n",
       "0                   132                    1                    1992   \n",
       "1                   258                    1                    1995   \n",
       "2                    85                    1                    1994   \n",
       "3                   271                    1                    1994   \n",
       "4                   533                    1                    1990   \n",
       "\n",
       "   V10_date_of_birth_month V22_main_crime_date_year V22_main_crime_date_month  \\\n",
       "0                       11                     2008                         8   \n",
       "1                        7                     2009                         8   \n",
       "2                        1                     2009                        11   \n",
       "3                        4                     2009                         1   \n",
       "4                        9                     2008                         9   \n",
       "\n",
       "  V30_program_start_year V30_program_start_month  V31_program_end_month  \n",
       "0                   2010                       4                      8  \n",
       "1                   2009                      12                      8  \n",
       "2                   2010                       3                      6  \n",
       "3                   2009                       6                      3  \n",
       "4                   2009                       5                     11  \n",
       "\n",
       "[5 rows x 29 columns]"
      ]
     },
     "execution_count": 6,
     "metadata": {},
     "output_type": "execute_result"
    }
   ],
   "source": [
    "df.head()"
   ]
  },
  {
   "cell_type": "code",
   "execution_count": 7,
   "metadata": {},
   "outputs": [
    {
     "data": {
      "application/vnd.jupyter.widget-view+json": {
       "model_id": "804bfc9670a54959a3c041c12a36613b",
       "version_major": 2,
       "version_minor": 0
      },
      "text/plain": [
       "Summarize dataset:   0%|          | 0/5 [00:00<?, ?it/s]"
      ]
     },
     "metadata": {},
     "output_type": "display_data"
    },
    {
     "data": {
      "application/vnd.jupyter.widget-view+json": {
       "model_id": "7f791ed007414336909a7cab6e93749e",
       "version_major": 2,
       "version_minor": 0
      },
      "text/plain": [
       "Generate report structure:   0%|          | 0/1 [00:00<?, ?it/s]"
      ]
     },
     "metadata": {},
     "output_type": "display_data"
    },
    {
     "data": {
      "application/vnd.jupyter.widget-view+json": {
       "model_id": "2726c63d8384461da37b878198185cc5",
       "version_major": 2,
       "version_minor": 0
      },
      "text/plain": [
       "Render HTML:   0%|          | 0/1 [00:00<?, ?it/s]"
      ]
     },
     "metadata": {},
     "output_type": "display_data"
    },
    {
     "data": {
      "application/vnd.jupyter.widget-view+json": {
       "model_id": "dbf556b4b5764dc397aaf4899fbd86c4",
       "version_major": 2,
       "version_minor": 0
      },
      "text/plain": [
       "Export report to file:   0%|          | 0/1 [00:00<?, ?it/s]"
      ]
     },
     "metadata": {},
     "output_type": "display_data"
    }
   ],
   "source": [
    "# create profile report\n",
    "import pandas as pd\n",
    "from pandas_profiling import ProfileReport\n",
    "\n",
    "#profile = ProfileReport(df, title=\"Pandas Profiling Report\")\n",
    "#profile.to_file(output_file='data_profiling_report.html')\n"
   ]
  },
  {
   "cell_type": "code",
   "execution_count": 8,
   "metadata": {},
   "outputs": [
    {
     "data": {
      "image/png": "[encoded data removed]",
      "text/plain": [
       "<Figure size 432x288 with 1 Axes>"
      ]
     },
     "metadata": {
      "needs_background": "light"
     },
     "output_type": "display_data"
    }
   ],
   "source": [
    "# some highlits from the report\n",
    "\n",
    "# plot sex distribution\n",
    "_=df.V1_sex.value_counts().plot(kind='bar')"
   ]
  },
  {
   "cell_type": "code",
   "execution_count": 9,
   "metadata": {},
   "outputs": [
    {
     "data": {
      "image/png": "[encoded data removed]",
      "text/plain": [
       "<Figure size 432x288 with 1 Axes>"
      ]
     },
     "metadata": {
      "needs_background": "light"
     },
     "output_type": "display_data"
    }
   ],
   "source": [
    "# plot area of origin distribution\n",
    "_=df.V8_age.value_counts().plot(kind='bar')"
   ]
  },
  {
   "cell_type": "code",
   "execution_count": 10,
   "metadata": {},
   "outputs": [
    {
     "data": {
      "image/png": "[encoded data removed]",
      "text/plain": [
       "<Figure size 432x288 with 1 Axes>"
      ]
     },
     "metadata": {
      "needs_background": "light"
     },
     "output_type": "display_data"
    }
   ],
   "source": [
    "_=df.V4_area_origin.value_counts().plot(kind='bar')"
   ]
  },
  {
   "attachments": {},
   "cell_type": "markdown",
   "metadata": {},
   "source": [
    "## Training"
   ]
  },
  {
   "attachments": {},
   "cell_type": "markdown",
   "metadata": {},
   "source": [
    "Split the dataset into training, validation and test sets, and train a machine\n",
    "learning algorithm of your choice to predict the variable Recidivism"
   ]
  },
  {
   "cell_type": "code",
   "execution_count": 11,
   "metadata": {},
   "outputs": [],
   "source": [
    "# Load libraries\n",
    "import pandas as pd\n",
    "from sklearn.tree import DecisionTreeClassifier # Import Decision Tree Classifier\n",
    "from sklearn.model_selection import train_test_split # Import train_test_split function\n",
    "from sklearn import metrics #Import scikit-learn metrics module for accuracy calculation"
   ]
  },
  {
   "cell_type": "code",
   "execution_count": 12,
   "metadata": {},
   "outputs": [
    {
     "data": {
      "text/plain": [
       "Index(['id', 'V1_sex', 'V4_area_origin', 'V6_province', 'V8_age',\n",
       "       'V9_age_at_program_end', 'V11_criminal_record', 'V12_n_criminal_record',\n",
       "       'V13_n_crime_cat', 'V15_main_crime_cat', 'V16_violent_crime',\n",
       "       'V17_crime_classification', 'V19_committed_crime',\n",
       "       'V20_n_juvenile_records', 'V21_n_crime', 'V23_territory_of_execution',\n",
       "       'V24_finished_program', 'V26_finished_measure_grouped',\n",
       "       'V27_program_duration_cat', 'V28_days_from_crime_to_program',\n",
       "       'V29_program_duration', 'V115_RECID2015_recid',\n",
       "       'V10_date_of_birth_year', 'V10_date_of_birth_month',\n",
       "       'V22_main_crime_date_year', 'V22_main_crime_date_month',\n",
       "       'V30_program_start_year', 'V30_program_start_month',\n",
       "       'V31_program_end_month'],\n",
       "      dtype='object')"
      ]
     },
     "execution_count": 12,
     "metadata": {},
     "output_type": "execute_result"
    }
   ],
   "source": [
    "col_names = df.columns\n",
    "col_names"
   ]
  },
  {
   "cell_type": "code",
   "execution_count": 13,
   "metadata": {},
   "outputs": [],
   "source": [
    "# feature selection\n",
    "feature_cols = ['id', 'V1_sex', 'V4_area_origin', 'V6_province', 'V8_age',\n",
    "       'V9_age_at_program_end', 'V11_criminal_record', 'V12_n_criminal_record',\n",
    "       'V13_n_crime_cat', 'V15_main_crime_cat', 'V16_violent_crime',\n",
    "       'V17_crime_classification', 'V19_committed_crime',\n",
    "       'V20_n_juvenile_records', 'V21_n_crime', 'V23_territory_of_execution',\n",
    "       'V24_finished_program', 'V26_finished_measure_grouped',\n",
    "       'V27_program_duration_cat', 'V28_days_from_crime_to_program',\n",
    "       'V29_program_duration',\n",
    "       'V10_date_of_birth_year', 'V10_date_of_birth_month',\n",
    "       'V22_main_crime_date_year', 'V22_main_crime_date_month',\n",
    "       'V30_program_start_year', 'V30_program_start_month',\n",
    "       'V31_program_end_month']"
   ]
  },
  {
   "cell_type": "code",
   "execution_count": 14,
   "metadata": {},
   "outputs": [],
   "source": [
    "X = df[feature_cols] # Features\n",
    "y = df.V115_RECID2015_recid # Target variable"
   ]
  },
  {
   "cell_type": "code",
   "execution_count": 61,
   "metadata": {},
   "outputs": [],
   "source": [
    "# find all columns with non-numeric values\n",
    "non_numeric_cols = []\n",
    "for col in X.columns:\n",
    "    if X[col].dtype == 'object':\n",
    "        non_numeric_cols.append(col)\n",
    "non_numeric_cols.append('V8_age')"
   ]
  },
  {
   "cell_type": "code",
   "execution_count": 62,
   "metadata": {},
   "outputs": [],
   "source": [
    "# apply one hot encoding to categorical features\n",
    "X = pd.get_dummies(X, columns=non_numeric_cols)"
   ]
  },
  {
   "cell_type": "code",
   "execution_count": 63,
   "metadata": {},
   "outputs": [],
   "source": [
    "# Split dataset into training set and test set  # 70% training and 30% test\n",
    "X_train, X_test, y_train, y_test = train_test_split(X, y, \n",
    "                                                    test_size=0.3, \n",
    "                                                    random_state=1, \n",
    "                                                    #stratify=y\n",
    "                                                    )"
   ]
  },
  {
   "cell_type": "code",
   "execution_count": 64,
   "metadata": {},
   "outputs": [],
   "source": [
    "# Create Decision Tree classifer object\n",
    "clf = DecisionTreeClassifier()\n",
    "\n",
    "# Train Decision Tree Classifer\n",
    "clf = clf.fit(X_train,y_train)\n",
    "\n",
    "#Predict the response for test dataset\n",
    "y_pred = clf.predict(X_test)\n"
   ]
  },
  {
   "cell_type": "code",
   "execution_count": 65,
   "metadata": {},
   "outputs": [
    {
     "name": "stdout",
     "output_type": "stream",
     "text": [
      "Accuracy: 0.6318051575931232\n"
     ]
    }
   ],
   "source": [
    "print(\"Accuracy:\",metrics.accuracy_score(y_test, y_pred))"
   ]
  },
  {
   "attachments": {},
   "cell_type": "markdown",
   "metadata": {},
   "source": [
    "# Fairness diagnostics"
   ]
  },
  {
   "attachments": {},
   "cell_type": "markdown",
   "metadata": {},
   "source": [
    "Please design your own criteria for diagnosing the three main definitions\n",
    "of fairness: Independence, Separation and Sufficiency. Use your criteria to\n",
    "perform a diagnostic test of your algorithm with respect to sensitive groups\n",
    "such as race and/or gender. Please describe your designed diagnostic\n",
    "criteria, as well as the results of your test. The rest of the project will be\n",
    "most interesting if you have picked a classifier where you observe unfairness\n",
    "at this point."
   ]
  },
  {
   "attachments": {},
   "cell_type": "markdown",
   "metadata": {},
   "source": [
    "### Attributes to test\n",
    "Sex: \\\n",
    "'V1_sex_female' \\\n",
    "'V1_sex_male' \n",
    "\n",
    "Origin: \\\n",
    "'V4_area_origin_Europe' \\\n",
    "V4_area_origin_Latin America'\\\n",
    "'V4_area_origin_Maghreb'\\\n",
    "'V4_area_origin_Other'\n",
    "\n",
    "Age:\\\n",
    "'V8_age_14' \\\n",
    "'V8_age_15' \\\n",
    "'V8_age_16' \\\n",
    "'V8_age_17' \n",
    "\n"
   ]
  },
  {
   "attachments": {},
   "cell_type": "markdown",
   "metadata": {},
   "source": [
    "## Independence"
   ]
  },
  {
   "cell_type": "code",
   "execution_count": 66,
   "metadata": {},
   "outputs": [],
   "source": [
    "# test independence of the model\n",
    "def test_independence(model,X, a, b, eps=0.01):\n",
    "    # y is the target variable\n",
    "    # X is the feature matrix\n",
    "    # a is the column for the first group\n",
    "    # b is the column for the second group\n",
    "    # for both grouqps a and b, the values are 0 or 1 (one-hot encoding)\n",
    "\n",
    "    # create two groups\n",
    "    X_a = X[X[a]==1]\n",
    "    X_b = X[X[b]==1]\n",
    "\n",
    "    # check prediction for group a and b\n",
    "    y_pred_a = model.predict(X_a)\n",
    "    y_pred_b = model.predict(X_b)\n",
    "\n",
    "    # calculate p(y_pred=1|A=a) and p(y_pred=1|A=b)\n",
    "    p_a = np.mean(y_pred_a)\n",
    "    p_b = np.mean(y_pred_b)\n",
    "\n",
    "    #print results\n",
    "    print(\"p(y_pred=1|A={}) = \".format(a), p_a)\n",
    "    print(\"p(y_pred=1|A={}) = \".format(b), p_b)\n",
    "\n",
    "    if np.abs(p_a - p_b) <= eps:\n",
    "        print(\"The model fulfills independence\")\n",
    "    else:\n",
    "        print(\"The model does not fulfill independence\")\n",
    "\n",
    "    return p_a, p_b\n"
   ]
  },
  {
   "cell_type": "code",
   "execution_count": 67,
   "metadata": {},
   "outputs": [
    {
     "name": "stdout",
     "output_type": "stream",
     "text": [
      "p(y_pred=1|A=V1_sex_male) =  0.37676609105180536\n",
      "p(y_pred=1|A=V1_sex_female) =  0.21686746987951808\n",
      "The model does not fulfill independence\n"
     ]
    }
   ],
   "source": [
    "test_independence(clf,X, \"V1_sex_male\", \"V1_sex_female\")"
   ]
  },
  {
   "attachments": {},
   "cell_type": "markdown",
   "metadata": {},
   "source": [
    "comment: the model discriminates males"
   ]
  },
  {
   "cell_type": "code",
   "execution_count": 72,
   "metadata": {},
   "outputs": [
    {
     "name": "stdout",
     "output_type": "stream",
     "text": [
      "p(y_pred=1|A=V8_age_14) =  0.4581560283687943\n",
      "p(y_pred=1|A=V8_age_15) =  0.38461538461538464\n",
      "The model does not fulfill independence\n",
      "p(y_pred=1|A=V8_age_16) =  0.36654275092936806\n",
      "p(y_pred=1|A=V8_age_17) =  0.2575855390574564\n",
      "The model does not fulfill independence\n"
     ]
    }
   ],
   "source": [
    "test_independence(clf,X, 'V8_age_14', 'V8_age_15')\n",
    "test_independence(clf,X, 'V8_age_16', 'V8_age_17')"
   ]
  },
  {
   "attachments": {},
   "cell_type": "markdown",
   "metadata": {},
   "source": [
    "comment: younger people are more likely predicted to recidivate"
   ]
  },
  {
   "cell_type": "code",
   "execution_count": 74,
   "metadata": {},
   "outputs": [
    {
     "name": "stdout",
     "output_type": "stream",
     "text": [
      "p(y_pred=1|A=V4_area_origin_Europe) =  0.3524590163934426\n",
      "p(y_pred=1|A=V4_area_origin_Latin America) =  0.39339752407152684\n",
      "The model does not fulfill independence\n",
      "p(y_pred=1|A=V4_area_origin_Maghreb) =  0.5114754098360655\n",
      "p(y_pred=1|A=V4_area_origin_Other) =  0.29292929292929293\n",
      "The model does not fulfill independence\n"
     ]
    }
   ],
   "source": [
    "test_independence(clf,X, 'V4_area_origin_Europe', 'V4_area_origin_Latin America')\n",
    "test_independence(clf,X, 'V4_area_origin_Maghreb', 'V4_area_origin_Other')"
   ]
  },
  {
   "attachments": {},
   "cell_type": "markdown",
   "metadata": {},
   "source": [
    "comment: the model discriminates certain races: arabic poeple are more likely to "
   ]
  },
  {
   "cell_type": "code",
   "execution_count": 75,
   "metadata": {},
   "outputs": [],
   "source": [
    "# test seperation of the model\n",
    "def test_seperation(model,X, y, a, b, eps=0.01):\n",
    "    # y is the target variable\n",
    "    # X is the feature matrix\n",
    "    # a is the column for the first group\n",
    "    # b is the column for the second group\n",
    "    # for both grouqps a and b, the values are 0 or 1 (one-hot encoding)\n",
    "\n",
    "    # create four groups\n",
    "    X_1_a = X[(X[a]==1) & (y==1)]\n",
    "    X_1_b = X[(X[b]==1) & (y==1)]\n",
    "    X_0_a = X[(X[a]==1) & (y==0)]\n",
    "    X_0_b = X[(X[b]==1) & (y==0)]\n",
    "\n",
    "    # check prediction all groups\n",
    "    y_pred_1_a = model.predict(X_1_a)\n",
    "    y_pred_1_b = model.predict(X_1_b)\n",
    "    y_pred_0_a = model.predict(X_0_a)\n",
    "    y_pred_0_b = model.predict(X_0_b)\n",
    "\n",
    "    # calculate p(y_pred=1|Y=1, A=a) and p(y_pred=1|Y=1, A=b) etc\n",
    "    p_1_a = np.mean(y_pred_1_a)\n",
    "    p_1_b = np.mean(y_pred_1_b)\n",
    "    p_0_a = np.mean(y_pred_0_a)\n",
    "    p_0_b = np.mean(y_pred_0_b)\n",
    "\n",
    "    #print results\n",
    "    print(\"p(y_pred=1|Y=1, A={}) = \".format(a), p_1_a)\n",
    "    print(\"p(y_pred=1|Y=1, A={}) = \".format(b), p_1_b)\n",
    "    print(\"p(y_pred=1|Y=0, A={}) = \".format(a), p_0_a)\n",
    "    print(\"p(y_pred=1|Y=0, A={}) = \".format(b), p_0_b)\n",
    "\n",
    "    if (np.abs(p_1_a - p_1_b) <= eps) & (np.abs(p_0_a - p_0_b) <= eps):\n",
    "        print(\"The model fulfills seperation\")\n",
    "    else:\n",
    "        print(\"The model does not fulfill seperation\")\n",
    "\n",
    "    return p_1_a, p_1_b, p_0_a, p_0_b"
   ]
  },
  {
   "cell_type": "code",
   "execution_count": 79,
   "metadata": {},
   "outputs": [
    {
     "name": "stdout",
     "output_type": "stream",
     "text": [
      "p(y_pred=1|Y=1, A=V1_sex_male) =  0.8532303370786517\n",
      "p(y_pred=1|Y=1, A=V1_sex_female) =  0.7941176470588235\n",
      "p(y_pred=1|Y=0, A=V1_sex_male) =  0.09382819015846539\n",
      "p(y_pred=1|Y=0, A=V1_sex_female) =  0.06818181818181818\n",
      "The model does not fulfill seperation\n"
     ]
    }
   ],
   "source": [
    "_=test_seperation(clf,X,y, \"V1_sex_male\", \"V1_sex_female\")"
   ]
  },
  {
   "cell_type": "code",
   "execution_count": 80,
   "metadata": {},
   "outputs": [
    {
     "name": "stdout",
     "output_type": "stream",
     "text": [
      "p(y_pred=1|Y=1, A=V8_age_14) =  0.873015873015873\n",
      "p(y_pred=1|Y=1, A=V8_age_15) =  0.8159806295399515\n",
      "p(y_pred=1|Y=0, A=V8_age_14) =  0.12307692307692308\n",
      "p(y_pred=1|Y=0, A=V8_age_15) =  0.10625\n",
      "The model does not fulfill seperation\n",
      "p(y_pred=1|Y=1, A=V8_age_16) =  0.8679245283018868\n",
      "p(y_pred=1|Y=1, A=V8_age_17) =  0.8329048843187661\n",
      "p(y_pred=1|Y=0, A=V8_age_16) =  0.09101382488479262\n",
      "p(y_pred=1|Y=0, A=V8_age_17) =  0.06465517241379311\n",
      "The model does not fulfill seperation\n"
     ]
    }
   ],
   "source": [
    "_=test_seperation(clf,X,y, 'V8_age_14', 'V8_age_15')\n",
    "_=test_seperation(clf,X,y, 'V8_age_16', 'V8_age_17')"
   ]
  },
  {
   "cell_type": "code",
   "execution_count": 81,
   "metadata": {},
   "outputs": [
    {
     "name": "stdout",
     "output_type": "stream",
     "text": [
      "p(y_pred=1|Y=1, A=V4_area_origin_Europe) =  0.8674698795180723\n",
      "p(y_pred=1|Y=1, A=V4_area_origin_Latin America) =  0.8566308243727598\n",
      "p(y_pred=1|Y=0, A=V4_area_origin_Europe) =  0.08695652173913043\n",
      "p(y_pred=1|Y=0, A=V4_area_origin_Latin America) =  0.10491071428571429\n",
      "The model does not fulfill seperation\n",
      "p(y_pred=1|Y=1, A=V4_area_origin_Maghreb) =  0.8666666666666667\n",
      "p(y_pred=1|Y=1, A=V4_area_origin_Other) =  0.9583333333333334\n",
      "p(y_pred=1|Y=0, A=V4_area_origin_Maghreb) =  0.13220338983050847\n",
      "p(y_pred=1|Y=0, A=V4_area_origin_Other) =  0.08\n",
      "The model does not fulfill seperation\n"
     ]
    }
   ],
   "source": [
    "_=test_seperation(clf,X,y, 'V4_area_origin_Europe', 'V4_area_origin_Latin America')\n",
    "_=test_seperation(clf,X,y, 'V4_area_origin_Maghreb', 'V4_area_origin_Other')"
   ]
  },
  {
   "cell_type": "code",
   "execution_count": null,
   "metadata": {},
   "outputs": [],
   "source": []
  }
 ],
 "metadata": {
  "kernelspec": {
   "display_name": "base",
   "language": "python",
   "name": "python3"
  },
  "language_info": {
   "codemirror_mode": {
    "name": "ipython",
    "version": 3
   },
   "file_extension": ".py",
   "mimetype": "text/x-python",
   "name": "python",
   "nbconvert_exporter": "python",
   "pygments_lexer": "ipython3",
   "version": "3.9.12"
  },
  "orig_nbformat": 4,
  "vscode": {
   "interpreter": {
    "hash": "fe05f3dfa3e8112935f33184834618a4f830bf02816b60ab873837c8caa77f6a"
   }
  }
 },
 "nbformat": 4,
 "nbformat_minor": 2
}
