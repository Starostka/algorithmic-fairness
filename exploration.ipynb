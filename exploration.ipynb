{
 "cells": [
  {
   "attachments": {},
   "cell_type": "markdown",
   "metadata": {},
   "source": [
    "Responsible AI - Project on algorithmic fairness"
   ]
  },
  {
   "cell_type": "code",
   "execution_count": 47,
   "metadata": {},
   "outputs": [],
   "source": [
    "import pandas as pd\n",
    "import numpy as np\n",
    "import matplotlib.pyplot as plt\n",
    "import seaborn as sns"
   ]
  },
  {
   "cell_type": "code",
   "execution_count": 48,
   "metadata": {},
   "outputs": [],
   "source": [
    "# read data from csv file\n",
    "df = pd.read_csv('data/catalan-juvenile-recidivism-subset.csv')"
   ]
  },
  {
   "cell_type": "code",
   "execution_count": 49,
   "metadata": {},
   "outputs": [
    {
     "data": {
      "text/html": [
       "<div>\n",
       "<style scoped>\n",
       "    .dataframe tbody tr th:only-of-type {\n",
       "        vertical-align: middle;\n",
       "    }\n",
       "\n",
       "    .dataframe tbody tr th {\n",
       "        vertical-align: top;\n",
       "    }\n",
       "\n",
       "    .dataframe thead th {\n",
       "        text-align: right;\n",
       "    }\n",
       "</style>\n",
       "<table border=\"1\" class=\"dataframe\">\n",
       "  <thead>\n",
       "    <tr style=\"text-align: right;\">\n",
       "      <th></th>\n",
       "      <th>id</th>\n",
       "      <th>V1_sex</th>\n",
       "      <th>V4_area_origin</th>\n",
       "      <th>V6_province</th>\n",
       "      <th>V8_age</th>\n",
       "      <th>V9_age_at_program_end</th>\n",
       "      <th>V11_criminal_record</th>\n",
       "      <th>V12_n_criminal_record</th>\n",
       "      <th>V13_n_crime_cat</th>\n",
       "      <th>V15_main_crime_cat</th>\n",
       "      <th>...</th>\n",
       "      <th>V28_days_from_crime_to_program</th>\n",
       "      <th>V29_program_duration</th>\n",
       "      <th>V115_RECID2015_recid</th>\n",
       "      <th>V10_date_of_birth_year</th>\n",
       "      <th>V10_date_of_birth_month</th>\n",
       "      <th>V22_main_crime_date_year</th>\n",
       "      <th>V22_main_crime_date_month</th>\n",
       "      <th>V30_program_start_year</th>\n",
       "      <th>V30_program_start_month</th>\n",
       "      <th>V31_program_end_month</th>\n",
       "    </tr>\n",
       "  </thead>\n",
       "  <tbody>\n",
       "    <tr>\n",
       "      <th>0</th>\n",
       "      <td>691</td>\n",
       "      <td>male</td>\n",
       "      <td>Spain</td>\n",
       "      <td>Lleida</td>\n",
       "      <td>15</td>\n",
       "      <td>17</td>\n",
       "      <td>1</td>\n",
       "      <td>1-2</td>\n",
       "      <td>3+</td>\n",
       "      <td>Against People</td>\n",
       "      <td>...</td>\n",
       "      <td>587.0</td>\n",
       "      <td>132</td>\n",
       "      <td>1</td>\n",
       "      <td>1992</td>\n",
       "      <td>11</td>\n",
       "      <td>2008</td>\n",
       "      <td>8</td>\n",
       "      <td>2010</td>\n",
       "      <td>4</td>\n",
       "      <td>8</td>\n",
       "    </tr>\n",
       "    <tr>\n",
       "      <th>1</th>\n",
       "      <td>956</td>\n",
       "      <td>female</td>\n",
       "      <td>Spain</td>\n",
       "      <td>Barcelona</td>\n",
       "      <td>14</td>\n",
       "      <td>15</td>\n",
       "      <td>1</td>\n",
       "      <td>1-2</td>\n",
       "      <td>2</td>\n",
       "      <td>Against People</td>\n",
       "      <td>...</td>\n",
       "      <td>107.0</td>\n",
       "      <td>258</td>\n",
       "      <td>1</td>\n",
       "      <td>1995</td>\n",
       "      <td>7</td>\n",
       "      <td>2009</td>\n",
       "      <td>8</td>\n",
       "      <td>2009</td>\n",
       "      <td>12</td>\n",
       "      <td>8</td>\n",
       "    </tr>\n",
       "    <tr>\n",
       "      <th>2</th>\n",
       "      <td>2560</td>\n",
       "      <td>male</td>\n",
       "      <td>Maghreb</td>\n",
       "      <td>Barcelona</td>\n",
       "      <td>15</td>\n",
       "      <td>16</td>\n",
       "      <td>1</td>\n",
       "      <td>3-5</td>\n",
       "      <td>3+</td>\n",
       "      <td>Against People</td>\n",
       "      <td>...</td>\n",
       "      <td>135.0</td>\n",
       "      <td>85</td>\n",
       "      <td>1</td>\n",
       "      <td>1994</td>\n",
       "      <td>1</td>\n",
       "      <td>2009</td>\n",
       "      <td>11</td>\n",
       "      <td>2010</td>\n",
       "      <td>3</td>\n",
       "      <td>6</td>\n",
       "    </tr>\n",
       "    <tr>\n",
       "      <th>3</th>\n",
       "      <td>2018</td>\n",
       "      <td>male</td>\n",
       "      <td>Maghreb</td>\n",
       "      <td>Girona</td>\n",
       "      <td>14</td>\n",
       "      <td>15</td>\n",
       "      <td>1</td>\n",
       "      <td>5+</td>\n",
       "      <td>2</td>\n",
       "      <td>Against People</td>\n",
       "      <td>...</td>\n",
       "      <td>176.0</td>\n",
       "      <td>271</td>\n",
       "      <td>1</td>\n",
       "      <td>1994</td>\n",
       "      <td>4</td>\n",
       "      <td>2009</td>\n",
       "      <td>1</td>\n",
       "      <td>2009</td>\n",
       "      <td>6</td>\n",
       "      <td>3</td>\n",
       "    </tr>\n",
       "    <tr>\n",
       "      <th>4</th>\n",
       "      <td>1650</td>\n",
       "      <td>male</td>\n",
       "      <td>Spain</td>\n",
       "      <td>Tarragona</td>\n",
       "      <td>17</td>\n",
       "      <td>20</td>\n",
       "      <td>1</td>\n",
       "      <td>5+</td>\n",
       "      <td>3+</td>\n",
       "      <td>Against People</td>\n",
       "      <td>...</td>\n",
       "      <td>261.0</td>\n",
       "      <td>533</td>\n",
       "      <td>1</td>\n",
       "      <td>1990</td>\n",
       "      <td>9</td>\n",
       "      <td>2008</td>\n",
       "      <td>9</td>\n",
       "      <td>2009</td>\n",
       "      <td>5</td>\n",
       "      <td>11</td>\n",
       "    </tr>\n",
       "  </tbody>\n",
       "</table>\n",
       "<p>5 rows × 29 columns</p>\n",
       "</div>"
      ],
      "text/plain": [
       "     id  V1_sex V4_area_origin V6_province  V8_age  V9_age_at_program_end  \\\n",
       "0   691    male          Spain      Lleida      15                     17   \n",
       "1   956  female          Spain   Barcelona      14                     15   \n",
       "2  2560    male        Maghreb   Barcelona      15                     16   \n",
       "3  2018    male        Maghreb      Girona      14                     15   \n",
       "4  1650    male          Spain   Tarragona      17                     20   \n",
       "\n",
       "   V11_criminal_record V12_n_criminal_record V13_n_crime_cat  \\\n",
       "0                    1                   1-2              3+   \n",
       "1                    1                   1-2               2   \n",
       "2                    1                   3-5              3+   \n",
       "3                    1                    5+               2   \n",
       "4                    1                    5+              3+   \n",
       "\n",
       "  V15_main_crime_cat  ...  V28_days_from_crime_to_program  \\\n",
       "0     Against People  ...                           587.0   \n",
       "1     Against People  ...                           107.0   \n",
       "2     Against People  ...                           135.0   \n",
       "3     Against People  ...                           176.0   \n",
       "4     Against People  ...                           261.0   \n",
       "\n",
       "   V29_program_duration V115_RECID2015_recid  V10_date_of_birth_year  \\\n",
       "0                   132                    1                    1992   \n",
       "1                   258                    1                    1995   \n",
       "2                    85                    1                    1994   \n",
       "3                   271                    1                    1994   \n",
       "4                   533                    1                    1990   \n",
       "\n",
       "   V10_date_of_birth_month V22_main_crime_date_year V22_main_crime_date_month  \\\n",
       "0                       11                     2008                         8   \n",
       "1                        7                     2009                         8   \n",
       "2                        1                     2009                        11   \n",
       "3                        4                     2009                         1   \n",
       "4                        9                     2008                         9   \n",
       "\n",
       "  V30_program_start_year V30_program_start_month  V31_program_end_month  \n",
       "0                   2010                       4                      8  \n",
       "1                   2009                      12                      8  \n",
       "2                   2010                       3                      6  \n",
       "3                   2009                       6                      3  \n",
       "4                   2009                       5                     11  \n",
       "\n",
       "[5 rows x 29 columns]"
      ]
     },
     "execution_count": 49,
     "metadata": {},
     "output_type": "execute_result"
    }
   ],
   "source": [
    "df.head()"
   ]
  },
  {
   "cell_type": "code",
   "execution_count": 50,
   "metadata": {},
   "outputs": [],
   "source": [
    "# create profile report\n",
    "import pandas as pd\n",
    "from pandas_profiling import ProfileReport\n",
    "\n",
    "# profile = ProfileReport(df, title=\"Pandas Profiling Report\")\n",
    "# profile.to_file(output_file='output.html')\n"
   ]
  },
  {
   "cell_type": "code",
   "execution_count": 51,
   "metadata": {},
   "outputs": [
    {
     "data": {
      "image/png": "[encoded data removed]",
      "text/plain": [
       "<Figure size 432x288 with 1 Axes>"
      ]
     },
     "metadata": {
      "needs_background": "light"
     },
     "output_type": "display_data"
    }
   ],
   "source": [
    "# some highlits from the report\n",
    "\n",
    "# plot sex distribution\n",
    "_=df.V1_sex.value_counts().plot(kind='bar')"
   ]
  },
  {
   "cell_type": "code",
   "execution_count": 52,
   "metadata": {},
   "outputs": [
    {
     "data": {
      "image/png": "[encoded data removed]",
      "text/plain": [
       "<Figure size 432x288 with 1 Axes>"
      ]
     },
     "metadata": {
      "needs_background": "light"
     },
     "output_type": "display_data"
    }
   ],
   "source": [
    "# plot area of origin distribution\n",
    "_=df.V8_age.value_counts().plot(kind='bar')"
   ]
  },
  {
   "cell_type": "code",
   "execution_count": 53,
   "metadata": {},
   "outputs": [
    {
     "data": {
      "image/png": "[encoded data removed]",
      "text/plain": [
       "<Figure size 432x288 with 1 Axes>"
      ]
     },
     "metadata": {
      "needs_background": "light"
     },
     "output_type": "display_data"
    }
   ],
   "source": [
    "_=df.V4_area_origin.value_counts().plot(kind='bar')"
   ]
  },
  {
   "attachments": {},
   "cell_type": "markdown",
   "metadata": {},
   "source": [
    "## Training"
   ]
  },
  {
   "attachments": {},
   "cell_type": "markdown",
   "metadata": {},
   "source": [
    "Split the dataset into training, validation and test sets, and train a machine\n",
    "learning algorithm of your choice to predict the variable Recidivism"
   ]
  },
  {
   "cell_type": "code",
   "execution_count": 54,
   "metadata": {},
   "outputs": [],
   "source": [
    "# Load libraries\n",
    "import pandas as pd\n",
    "from sklearn.tree import DecisionTreeClassifier # Import Decision Tree Classifier\n",
    "from sklearn.model_selection import train_test_split # Import train_test_split function\n",
    "from sklearn import metrics #Import scikit-learn metrics module for accuracy calculation"
   ]
  },
  {
   "cell_type": "code",
   "execution_count": 55,
   "metadata": {},
   "outputs": [],
   "source": [
    "X = df.drop(columns=[\"V115_RECID2015_recid\", \"id\"])\n",
    "y = df.V115_RECID2015_recid # Target variable"
   ]
  },
  {
   "cell_type": "code",
   "execution_count": 56,
   "metadata": {},
   "outputs": [],
   "source": [
    "# apply one hot encoding to categorical features\n",
    "X = pd.get_dummies(X, columns=[col for col in X.columns if X[col].dtype == \"object\"])"
   ]
  },
  {
   "cell_type": "code",
   "execution_count": 57,
   "metadata": {},
   "outputs": [
    {
     "data": {
      "text/html": [
       "<div>\n",
       "<style scoped>\n",
       "    .dataframe tbody tr th:only-of-type {\n",
       "        vertical-align: middle;\n",
       "    }\n",
       "\n",
       "    .dataframe tbody tr th {\n",
       "        vertical-align: top;\n",
       "    }\n",
       "\n",
       "    .dataframe thead th {\n",
       "        text-align: right;\n",
       "    }\n",
       "</style>\n",
       "<table border=\"1\" class=\"dataframe\">\n",
       "  <thead>\n",
       "    <tr style=\"text-align: right;\">\n",
       "      <th></th>\n",
       "      <th>V8_age</th>\n",
       "      <th>V9_age_at_program_end</th>\n",
       "      <th>V11_criminal_record</th>\n",
       "      <th>V16_violent_crime</th>\n",
       "      <th>V17_crime_classification</th>\n",
       "      <th>V20_n_juvenile_records</th>\n",
       "      <th>V21_n_crime</th>\n",
       "      <th>V28_days_from_crime_to_program</th>\n",
       "      <th>V29_program_duration</th>\n",
       "      <th>V10_date_of_birth_year</th>\n",
       "      <th>...</th>\n",
       "      <th>V24_finished_program_Tractament terapèutic ambulatori</th>\n",
       "      <th>V26_finished_measure_grouped_ATM</th>\n",
       "      <th>V26_finished_measure_grouped_Community Service</th>\n",
       "      <th>V26_finished_measure_grouped_Internment</th>\n",
       "      <th>V26_finished_measure_grouped_MRM</th>\n",
       "      <th>V26_finished_measure_grouped_Other</th>\n",
       "      <th>V26_finished_measure_grouped_Probation</th>\n",
       "      <th>V27_program_duration_cat_6 months &lt; 1 year</th>\n",
       "      <th>V27_program_duration_cat_&lt;6 months</th>\n",
       "      <th>V27_program_duration_cat_&gt;1 year</th>\n",
       "    </tr>\n",
       "  </thead>\n",
       "  <tbody>\n",
       "    <tr>\n",
       "      <th>0</th>\n",
       "      <td>15</td>\n",
       "      <td>17</td>\n",
       "      <td>1</td>\n",
       "      <td>1</td>\n",
       "      <td>1</td>\n",
       "      <td>1.0</td>\n",
       "      <td>4</td>\n",
       "      <td>587.0</td>\n",
       "      <td>132</td>\n",
       "      <td>1992</td>\n",
       "      <td>...</td>\n",
       "      <td>0</td>\n",
       "      <td>0</td>\n",
       "      <td>0</td>\n",
       "      <td>1</td>\n",
       "      <td>0</td>\n",
       "      <td>0</td>\n",
       "      <td>0</td>\n",
       "      <td>0</td>\n",
       "      <td>1</td>\n",
       "      <td>0</td>\n",
       "    </tr>\n",
       "    <tr>\n",
       "      <th>1</th>\n",
       "      <td>14</td>\n",
       "      <td>15</td>\n",
       "      <td>1</td>\n",
       "      <td>1</td>\n",
       "      <td>1</td>\n",
       "      <td>1.0</td>\n",
       "      <td>2</td>\n",
       "      <td>107.0</td>\n",
       "      <td>258</td>\n",
       "      <td>1995</td>\n",
       "      <td>...</td>\n",
       "      <td>0</td>\n",
       "      <td>0</td>\n",
       "      <td>0</td>\n",
       "      <td>1</td>\n",
       "      <td>0</td>\n",
       "      <td>0</td>\n",
       "      <td>0</td>\n",
       "      <td>1</td>\n",
       "      <td>0</td>\n",
       "      <td>0</td>\n",
       "    </tr>\n",
       "    <tr>\n",
       "      <th>2</th>\n",
       "      <td>15</td>\n",
       "      <td>16</td>\n",
       "      <td>1</td>\n",
       "      <td>1</td>\n",
       "      <td>1</td>\n",
       "      <td>4.0</td>\n",
       "      <td>3</td>\n",
       "      <td>135.0</td>\n",
       "      <td>85</td>\n",
       "      <td>1994</td>\n",
       "      <td>...</td>\n",
       "      <td>0</td>\n",
       "      <td>0</td>\n",
       "      <td>0</td>\n",
       "      <td>1</td>\n",
       "      <td>0</td>\n",
       "      <td>0</td>\n",
       "      <td>0</td>\n",
       "      <td>0</td>\n",
       "      <td>1</td>\n",
       "      <td>0</td>\n",
       "    </tr>\n",
       "    <tr>\n",
       "      <th>3</th>\n",
       "      <td>14</td>\n",
       "      <td>15</td>\n",
       "      <td>1</td>\n",
       "      <td>1</td>\n",
       "      <td>1</td>\n",
       "      <td>7.0</td>\n",
       "      <td>2</td>\n",
       "      <td>176.0</td>\n",
       "      <td>271</td>\n",
       "      <td>1994</td>\n",
       "      <td>...</td>\n",
       "      <td>0</td>\n",
       "      <td>0</td>\n",
       "      <td>0</td>\n",
       "      <td>1</td>\n",
       "      <td>0</td>\n",
       "      <td>0</td>\n",
       "      <td>0</td>\n",
       "      <td>1</td>\n",
       "      <td>0</td>\n",
       "      <td>0</td>\n",
       "    </tr>\n",
       "    <tr>\n",
       "      <th>4</th>\n",
       "      <td>17</td>\n",
       "      <td>20</td>\n",
       "      <td>1</td>\n",
       "      <td>1</td>\n",
       "      <td>1</td>\n",
       "      <td>6.0</td>\n",
       "      <td>3</td>\n",
       "      <td>261.0</td>\n",
       "      <td>533</td>\n",
       "      <td>1990</td>\n",
       "      <td>...</td>\n",
       "      <td>0</td>\n",
       "      <td>0</td>\n",
       "      <td>0</td>\n",
       "      <td>1</td>\n",
       "      <td>0</td>\n",
       "      <td>0</td>\n",
       "      <td>0</td>\n",
       "      <td>0</td>\n",
       "      <td>0</td>\n",
       "      <td>1</td>\n",
       "    </tr>\n",
       "    <tr>\n",
       "      <th>5</th>\n",
       "      <td>16</td>\n",
       "      <td>18</td>\n",
       "      <td>1</td>\n",
       "      <td>1</td>\n",
       "      <td>1</td>\n",
       "      <td>1.0</td>\n",
       "      <td>1</td>\n",
       "      <td>420.0</td>\n",
       "      <td>212</td>\n",
       "      <td>1992</td>\n",
       "      <td>...</td>\n",
       "      <td>0</td>\n",
       "      <td>0</td>\n",
       "      <td>0</td>\n",
       "      <td>0</td>\n",
       "      <td>0</td>\n",
       "      <td>0</td>\n",
       "      <td>1</td>\n",
       "      <td>1</td>\n",
       "      <td>0</td>\n",
       "      <td>0</td>\n",
       "    </tr>\n",
       "    <tr>\n",
       "      <th>6</th>\n",
       "      <td>17</td>\n",
       "      <td>19</td>\n",
       "      <td>1</td>\n",
       "      <td>1</td>\n",
       "      <td>0</td>\n",
       "      <td>3.0</td>\n",
       "      <td>4</td>\n",
       "      <td>547.0</td>\n",
       "      <td>118</td>\n",
       "      <td>1990</td>\n",
       "      <td>...</td>\n",
       "      <td>0</td>\n",
       "      <td>0</td>\n",
       "      <td>0</td>\n",
       "      <td>0</td>\n",
       "      <td>0</td>\n",
       "      <td>0</td>\n",
       "      <td>1</td>\n",
       "      <td>0</td>\n",
       "      <td>1</td>\n",
       "      <td>0</td>\n",
       "    </tr>\n",
       "    <tr>\n",
       "      <th>7</th>\n",
       "      <td>14</td>\n",
       "      <td>16</td>\n",
       "      <td>1</td>\n",
       "      <td>1</td>\n",
       "      <td>0</td>\n",
       "      <td>7.0</td>\n",
       "      <td>1</td>\n",
       "      <td>367.0</td>\n",
       "      <td>271</td>\n",
       "      <td>1994</td>\n",
       "      <td>...</td>\n",
       "      <td>0</td>\n",
       "      <td>0</td>\n",
       "      <td>0</td>\n",
       "      <td>0</td>\n",
       "      <td>0</td>\n",
       "      <td>0</td>\n",
       "      <td>1</td>\n",
       "      <td>1</td>\n",
       "      <td>0</td>\n",
       "      <td>0</td>\n",
       "    </tr>\n",
       "    <tr>\n",
       "      <th>8</th>\n",
       "      <td>17</td>\n",
       "      <td>19</td>\n",
       "      <td>1</td>\n",
       "      <td>1</td>\n",
       "      <td>0</td>\n",
       "      <td>6.0</td>\n",
       "      <td>1</td>\n",
       "      <td>541.0</td>\n",
       "      <td>302</td>\n",
       "      <td>1990</td>\n",
       "      <td>...</td>\n",
       "      <td>0</td>\n",
       "      <td>0</td>\n",
       "      <td>0</td>\n",
       "      <td>0</td>\n",
       "      <td>0</td>\n",
       "      <td>0</td>\n",
       "      <td>1</td>\n",
       "      <td>1</td>\n",
       "      <td>0</td>\n",
       "      <td>0</td>\n",
       "    </tr>\n",
       "    <tr>\n",
       "      <th>9</th>\n",
       "      <td>17</td>\n",
       "      <td>17</td>\n",
       "      <td>1</td>\n",
       "      <td>1</td>\n",
       "      <td>1</td>\n",
       "      <td>4.0</td>\n",
       "      <td>1</td>\n",
       "      <td>109.0</td>\n",
       "      <td>29</td>\n",
       "      <td>1992</td>\n",
       "      <td>...</td>\n",
       "      <td>0</td>\n",
       "      <td>1</td>\n",
       "      <td>0</td>\n",
       "      <td>0</td>\n",
       "      <td>0</td>\n",
       "      <td>0</td>\n",
       "      <td>0</td>\n",
       "      <td>0</td>\n",
       "      <td>1</td>\n",
       "      <td>0</td>\n",
       "    </tr>\n",
       "  </tbody>\n",
       "</table>\n",
       "<p>10 rows × 88 columns</p>\n",
       "</div>"
      ],
      "text/plain": [
       "   V8_age  V9_age_at_program_end  V11_criminal_record  V16_violent_crime  \\\n",
       "0      15                     17                    1                  1   \n",
       "1      14                     15                    1                  1   \n",
       "2      15                     16                    1                  1   \n",
       "3      14                     15                    1                  1   \n",
       "4      17                     20                    1                  1   \n",
       "5      16                     18                    1                  1   \n",
       "6      17                     19                    1                  1   \n",
       "7      14                     16                    1                  1   \n",
       "8      17                     19                    1                  1   \n",
       "9      17                     17                    1                  1   \n",
       "\n",
       "   V17_crime_classification  V20_n_juvenile_records  V21_n_crime  \\\n",
       "0                         1                     1.0            4   \n",
       "1                         1                     1.0            2   \n",
       "2                         1                     4.0            3   \n",
       "3                         1                     7.0            2   \n",
       "4                         1                     6.0            3   \n",
       "5                         1                     1.0            1   \n",
       "6                         0                     3.0            4   \n",
       "7                         0                     7.0            1   \n",
       "8                         0                     6.0            1   \n",
       "9                         1                     4.0            1   \n",
       "\n",
       "   V28_days_from_crime_to_program  V29_program_duration  \\\n",
       "0                           587.0                   132   \n",
       "1                           107.0                   258   \n",
       "2                           135.0                    85   \n",
       "3                           176.0                   271   \n",
       "4                           261.0                   533   \n",
       "5                           420.0                   212   \n",
       "6                           547.0                   118   \n",
       "7                           367.0                   271   \n",
       "8                           541.0                   302   \n",
       "9                           109.0                    29   \n",
       "\n",
       "   V10_date_of_birth_year  ...  \\\n",
       "0                    1992  ...   \n",
       "1                    1995  ...   \n",
       "2                    1994  ...   \n",
       "3                    1994  ...   \n",
       "4                    1990  ...   \n",
       "5                    1992  ...   \n",
       "6                    1990  ...   \n",
       "7                    1994  ...   \n",
       "8                    1990  ...   \n",
       "9                    1992  ...   \n",
       "\n",
       "   V24_finished_program_Tractament terapèutic ambulatori  \\\n",
       "0                                                  0       \n",
       "1                                                  0       \n",
       "2                                                  0       \n",
       "3                                                  0       \n",
       "4                                                  0       \n",
       "5                                                  0       \n",
       "6                                                  0       \n",
       "7                                                  0       \n",
       "8                                                  0       \n",
       "9                                                  0       \n",
       "\n",
       "   V26_finished_measure_grouped_ATM  \\\n",
       "0                                 0   \n",
       "1                                 0   \n",
       "2                                 0   \n",
       "3                                 0   \n",
       "4                                 0   \n",
       "5                                 0   \n",
       "6                                 0   \n",
       "7                                 0   \n",
       "8                                 0   \n",
       "9                                 1   \n",
       "\n",
       "   V26_finished_measure_grouped_Community Service  \\\n",
       "0                                               0   \n",
       "1                                               0   \n",
       "2                                               0   \n",
       "3                                               0   \n",
       "4                                               0   \n",
       "5                                               0   \n",
       "6                                               0   \n",
       "7                                               0   \n",
       "8                                               0   \n",
       "9                                               0   \n",
       "\n",
       "   V26_finished_measure_grouped_Internment  V26_finished_measure_grouped_MRM  \\\n",
       "0                                        1                                 0   \n",
       "1                                        1                                 0   \n",
       "2                                        1                                 0   \n",
       "3                                        1                                 0   \n",
       "4                                        1                                 0   \n",
       "5                                        0                                 0   \n",
       "6                                        0                                 0   \n",
       "7                                        0                                 0   \n",
       "8                                        0                                 0   \n",
       "9                                        0                                 0   \n",
       "\n",
       "   V26_finished_measure_grouped_Other  V26_finished_measure_grouped_Probation  \\\n",
       "0                                   0                                       0   \n",
       "1                                   0                                       0   \n",
       "2                                   0                                       0   \n",
       "3                                   0                                       0   \n",
       "4                                   0                                       0   \n",
       "5                                   0                                       1   \n",
       "6                                   0                                       1   \n",
       "7                                   0                                       1   \n",
       "8                                   0                                       1   \n",
       "9                                   0                                       0   \n",
       "\n",
       "   V27_program_duration_cat_6 months < 1 year  \\\n",
       "0                                           0   \n",
       "1                                           1   \n",
       "2                                           0   \n",
       "3                                           1   \n",
       "4                                           0   \n",
       "5                                           1   \n",
       "6                                           0   \n",
       "7                                           1   \n",
       "8                                           1   \n",
       "9                                           0   \n",
       "\n",
       "   V27_program_duration_cat_<6 months  V27_program_duration_cat_>1 year  \n",
       "0                                   1                                 0  \n",
       "1                                   0                                 0  \n",
       "2                                   1                                 0  \n",
       "3                                   0                                 0  \n",
       "4                                   0                                 1  \n",
       "5                                   0                                 0  \n",
       "6                                   1                                 0  \n",
       "7                                   0                                 0  \n",
       "8                                   0                                 0  \n",
       "9                                   1                                 0  \n",
       "\n",
       "[10 rows x 88 columns]"
      ]
     },
     "execution_count": 57,
     "metadata": {},
     "output_type": "execute_result"
    }
   ],
   "source": [
    "X.head(10)"
   ]
  },
  {
   "cell_type": "code",
   "execution_count": 100,
   "metadata": {},
   "outputs": [],
   "source": [
    "def plot_roc_curves(y_test, pred_proba, legend=\"\"):\n",
    "    fpr, tpr, _ = metrics.roc_curve(y_test, pred_proba)\n",
    "\n",
    "    plt.plot(fpr, tpr, label=legend)\n",
    "    plt.xlabel(\"False positive rate\")\n",
    "    plt.ylabel(\"True positive rate\")\n",
    "    plt.title(\"ROC curve\")\n",
    "    plt.legend()"
   ]
  },
  {
   "cell_type": "code",
   "execution_count": 58,
   "metadata": {},
   "outputs": [],
   "source": [
    "# Split dataset into training set and test set  # 70% training and 30% test\n",
    "X_train, X_test, y_train, y_test = train_test_split(X, y, test_size=0.3, random_state=1, stratify=y)"
   ]
  },
  {
   "cell_type": "code",
   "execution_count": 59,
   "metadata": {},
   "outputs": [],
   "source": [
    "# import sklearn random forest\n",
    "from sklearn.ensemble import RandomForestClassifier\n",
    "\n",
    "# Create Decision Tree classifer object\n",
    "rfc = RandomForestClassifier()\n",
    "\n",
    "# Train Decision Tree Classifer\n",
    "rfc = rfc.fit(X_train,y_train)\n",
    "\n",
    "#Predict the response for test dataset\n",
    "y_pred = rfc.predict(X_test)\n"
   ]
  },
  {
   "cell_type": "code",
   "execution_count": 87,
   "metadata": {},
   "outputs": [],
   "source": [
    "filter_is_female = X_test.V1_sex_female == 1\n",
    "\n",
    "# get probabilities from rfc\n",
    "y_pred_proba_female = pd.DataFrame(rfc.predict_proba(X_test[filter_is_female]))[1]\n",
    "y_pred_proba_male = pd.DataFrame(rfc.predict_proba(X_test[~filter_is_female]))[1]"
   ]
  },
  {
   "cell_type": "code",
   "execution_count": 92,
   "metadata": {},
   "outputs": [
    {
     "data": {
      "text/plain": [
       "<matplotlib.legend.Legend at 0x7fd41954c160>"
      ]
     },
     "execution_count": 92,
     "metadata": {},
     "output_type": "execute_result"
    },
    {
     "data": {
      "image/png": "[encoded data removed]",
      "text/plain": [
       "<Figure size 432x288 with 1 Axes>"
      ]
     },
     "metadata": {
      "needs_background": "light"
     },
     "output_type": "display_data"
    }
   ],
   "source": [
    "y_pred_proba_female.plot(kind=\"hist\", alpha=0.5, label=\"female\", density=1)\n",
    "y_pred_proba_male.plot(kind=\"hist\", alpha=0.5, label=\"male\", density=1)\n",
    "plt.xlabel(\"Prob.\")\n",
    "plt.vlines(0.5,0,3.3)\n",
    "plt.legend()"
   ]
  },
  {
   "cell_type": "code",
   "execution_count": 104,
   "metadata": {},
   "outputs": [
    {
     "data": {
      "text/plain": [
       "[<matplotlib.lines.Line2D at 0x7fd41a27f5b0>]"
      ]
     },
     "execution_count": 104,
     "metadata": {},
     "output_type": "execute_result"
    },
    {
     "data": {
      "image/png": "[encoded data removed]",
      "text/plain": [
       "<Figure size 432x288 with 1 Axes>"
      ]
     },
     "metadata": {
      "needs_background": "light"
     },
     "output_type": "display_data"
    }
   ],
   "source": [
    "plot_roc_curves(y_test[filter_is_female], y_pred_proba_female, legend=\"female\")\n",
    "plot_roc_curves(y_test[~filter_is_female], y_pred_proba_male, legend=\"male\")\n",
    "plt.plot([0, 1], [0, 1], color='navy', lw=2, linestyle='--')"
   ]
  },
  {
   "cell_type": "code",
   "execution_count": 62,
   "metadata": {},
   "outputs": [
    {
     "name": "stdout",
     "output_type": "stream",
     "text": [
      "Accuracy: 0.7263610315186246\n"
     ]
    }
   ],
   "source": [
    "print(\"Accuracy:\",metrics.accuracy_score(y_test, y_pred))"
   ]
  },
  {
   "attachments": {},
   "cell_type": "markdown",
   "metadata": {},
   "source": [
    "Please design your own criteria for diagnosing the three main definitions\n",
    "of fairness: Independence, Separation and Sufficiency. Use your criteria to\n",
    "perform a diagnostic test of your algorithm with respect to sensitive groups\n",
    "such as race and/or gender. Please describe your designed diagnostic\n",
    "criteria, as well as the results of your test. The rest of the project will be\n",
    "most interesting if you have picked a classifier where you observe unfairness\n",
    "at this point."
   ]
  },
  {
   "cell_type": "code",
   "execution_count": 63,
   "metadata": {},
   "outputs": [],
   "source": [
    "# ### Attributes to test\n",
    "# Sex: \\\n",
    "# 'V1_sex_female' \\\n",
    "# 'V1_sex_male' \n",
    "\n",
    "# Origin: \\\n",
    "# 'V4_area_origin_Europe' \\\n",
    "# V4_area_origin_Latin America'\\\n",
    "# 'V4_area_origin_Maghreb'\\\n",
    "# 'V4_area_origin_Other'\n",
    "\n",
    "# Age:\\\n",
    "# 'V8_age_14' \\\n",
    "# 'V8_age_15' \\\n",
    "# 'V8_age_16' \\\n",
    "# 'V8_age_17' \n",
    "\n"
   ]
  },
  {
   "attachments": {},
   "cell_type": "markdown",
   "metadata": {},
   "source": [
    "## Independence"
   ]
  },
  {
   "cell_type": "code",
   "execution_count": 64,
   "metadata": {},
   "outputs": [],
   "source": [
    "# test independence of the model\n",
    "def test_independence(model,X, a, b, allowed_err=0):\n",
    "    # y is the target variable\n",
    "    # X is the feature matrix\n",
    "    # a is the column for the first group\n",
    "    # b is the column for the second group\n",
    "    # for both grouqps a and b, the values are 0 or 1 (one-hot encoding)\n",
    "\n",
    "    # create two groups\n",
    "    X_a = X[X[a]==1]\n",
    "    X_b = X[X[b]==1]\n",
    "\n",
    "    # check prediction for group a and b\n",
    "    y_pred_a = model.predict(X_a)\n",
    "    y_pred_b = model.predict(X_b)\n",
    "\n",
    "    # calculate p(y_pred=1|A=a) and p(y_pred=1|A=b)\n",
    "    p_a = np.mean(y_pred_a)\n",
    "    p_b = np.mean(y_pred_b)\n",
    "\n",
    "    #print results\n",
    "    print(f\"p(y_pred=1|A={a}) = {p_a:.3f}\")\n",
    "    print(f\"p(y_pred=1|A={b}) = {p_b:.3f}\")\n",
    "\n",
    "    if abs(p_a - p_b) <= allowed_err:\n",
    "        print(\"The model fulfills independence\")\n",
    "    else:\n",
    "        print(\"The model does not fulfill independence\")\n",
    "\n",
    "    return p_a, p_b\n"
   ]
  },
  {
   "cell_type": "code",
   "execution_count": 65,
   "metadata": {},
   "outputs": [
    {
     "name": "stdout",
     "output_type": "stream",
     "text": [
      "p(y_pred=1|A=V1_sex_male) = 0.338\n",
      "p(y_pred=1|A=V1_sex_female) = 0.158\n",
      "The model does not fulfill independence\n"
     ]
    },
    {
     "data": {
      "text/plain": [
       "(0.3377812663526949, 0.1578313253012048)"
      ]
     },
     "execution_count": 65,
     "metadata": {},
     "output_type": "execute_result"
    }
   ],
   "source": [
    "test_independence(rfc,X, \"V1_sex_male\", \"V1_sex_female\", allowed_err=0.05)"
   ]
  },
  {
   "attachments": {},
   "cell_type": "markdown",
   "metadata": {},
   "source": [
    "comment: the model discriminates males"
   ]
  },
  {
   "cell_type": "code",
   "execution_count": 66,
   "metadata": {},
   "outputs": [],
   "source": [
    "# test seperation of the model\n",
    "def test_seperation(model,X, y, a, b, allowed_err=0):\n",
    "    # y is the target variable\n",
    "    # X is the feature matrix\n",
    "    # a is the column for the first group\n",
    "    # b is the column for the second group\n",
    "    # for both grouqps a and b, the values are 0 or 1 (one-hot encoding)\n",
    "\n",
    "    # create four groups\n",
    "    X_1_a = X[(X[a]==1) & (y==1)]\n",
    "    X_1_b = X[(X[b]==1) & (y==1)]\n",
    "    X_0_a = X[(X[a]==1) & (y==0)]\n",
    "    X_0_b = X[(X[b]==1) & (y==0)]\n",
    "\n",
    "    # check prediction all groups\n",
    "    y_pred_1_a = model.predict(X_1_a)\n",
    "    y_pred_1_b = model.predict(X_1_b)\n",
    "    y_pred_0_a = model.predict(X_0_a)\n",
    "    y_pred_0_b = model.predict(X_0_b)\n",
    "\n",
    "    # calculate p(y_pred=1|Y=1, A=a) and p(y_pred=1|Y=1, A=b) etc\n",
    "    p_1_a = np.mean(y_pred_1_a)\n",
    "    p_1_b = np.mean(y_pred_1_b)\n",
    "    p_0_a = np.mean(y_pred_0_a)\n",
    "    p_0_b = np.mean(y_pred_0_b)\n",
    "\n",
    "    #print results\n",
    "    print(f\"p(y_pred=1|Y=1, A={a}) = {p_1_a:.3f}\")\n",
    "    print(f\"p(y_pred=1|Y=1, A={b}) = {p_1_b:.3f}\")\n",
    "    print(f\"p(y_pred=1|Y=0, A={a}) = {p_0_a:.3f}\")\n",
    "    print(f\"p(y_pred=1|Y=0, A={b}) = {p_0_b:.3f}\")\n",
    "\n",
    "    if abs(p_1_a - p_1_b) <= allowed_err and abs(p_0_a - p_0_b) <= allowed_err:\n",
    "        print(\"The model fulfills seperation\")\n",
    "    else:\n",
    "        print(\"The model does not fulfill seperation\")\n",
    "\n",
    "    return p_1_a, p_1_b, p_0_a, p_0_b"
   ]
  },
  {
   "cell_type": "code",
   "execution_count": 67,
   "metadata": {},
   "outputs": [
    {
     "name": "stdout",
     "output_type": "stream",
     "text": [
      "p(y_pred=1|Y=1, A=V1_sex_male) = 0.838\n",
      "p(y_pred=1|Y=1, A=V1_sex_female) = 0.718\n",
      "p(y_pred=1|Y=0, A=V1_sex_male) = 0.040\n",
      "p(y_pred=1|Y=0, A=V1_sex_female) = 0.014\n",
      "The model does not fulfill seperation\n"
     ]
    },
    {
     "data": {
      "text/plain": [
       "(0.8384831460674157,\n",
       " 0.7176470588235294,\n",
       " 0.040450375312760634,\n",
       " 0.013636363636363636)"
      ]
     },
     "execution_count": 67,
     "metadata": {},
     "output_type": "execute_result"
    }
   ],
   "source": [
    "test_seperation(rfc,X,y, \"V1_sex_male\", \"V1_sex_female\", allowed_err=0.05)"
   ]
  },
  {
   "cell_type": "code",
   "execution_count": 68,
   "metadata": {},
   "outputs": [
    {
     "name": "stdout",
     "output_type": "stream",
     "text": [
      "p(y_pred=1|Y=1, A=V4_area_origin_Europe) = 0.843\n",
      "p(y_pred=1|Y=1, A=V4_area_origin_Latin America) = 0.857\n",
      "p(y_pred=1|Y=0, A=V4_area_origin_Europe) = 0.043\n",
      "p(y_pred=1|Y=0, A=V4_area_origin_Latin America) = 0.038\n",
      "The model does not fulfill seperation\n",
      "p(y_pred=1|Y=1, A=V4_area_origin_Maghreb) = 0.873\n",
      "p(y_pred=1|Y=1, A=V4_area_origin_Other) = 0.917\n",
      "p(y_pred=1|Y=0, A=V4_area_origin_Maghreb) = 0.075\n",
      "p(y_pred=1|Y=0, A=V4_area_origin_Other) = 0.013\n",
      "The model does not fulfill seperation\n"
     ]
    }
   ],
   "source": [
    "_=test_seperation(rfc,X,y, 'V4_area_origin_Europe', 'V4_area_origin_Latin America')\n",
    "_=test_seperation(rfc,X,y, 'V4_area_origin_Maghreb', 'V4_area_origin_Other')"
   ]
  },
  {
   "cell_type": "code",
   "execution_count": 72,
   "metadata": {},
   "outputs": [],
   "source": [
    "pred_proba = pd.DataFrame(rfc.predict_proba(X_test))[1]"
   ]
  },
  {
   "cell_type": "code",
   "execution_count": 78,
   "metadata": {},
   "outputs": [],
   "source": [
    "def plot_roc_curves(y_test, pred_proba):\n",
    "    fpr, tpr, _ = metrics.roc_curve(y_test, pred_proba)\n",
    "    plt.plot(fpr, tpr)\n",
    "    plt.xlabel(\"False positive rate\")\n",
    "    plt.ylabel(\"True positive rate\")\n",
    "    plt.title(\"ROC curve\")"
   ]
  },
  {
   "cell_type": "code",
   "execution_count": 73,
   "metadata": {},
   "outputs": [],
   "source": [
    "for th in np.linspace(0,1,100):\n",
    "    pred = pred_proba > th\n",
    "    "
   ]
  },
  {
   "cell_type": "code",
   "execution_count": 74,
   "metadata": {},
   "outputs": [
    {
     "data": {
      "text/plain": [
       "308"
      ]
     },
     "execution_count": 74,
     "metadata": {},
     "output_type": "execute_result"
    }
   ],
   "source": [
    "(pd.DataFrame(rfc.predict_proba(X_test))[1] > 0.5).sum()"
   ]
  },
  {
   "cell_type": "code",
   "execution_count": 75,
   "metadata": {},
   "outputs": [
    {
     "data": {
      "text/plain": [
       "2911    False\n",
       "3376    False\n",
       "3631    False\n",
       "1055     True\n",
       "514      True\n",
       "        ...  \n",
       "1697    False\n",
       "902      True\n",
       "1308    False\n",
       "1534     True\n",
       "3718    False\n",
       "Name: V115_RECID2015_recid, Length: 1396, dtype: bool"
      ]
     },
     "execution_count": 75,
     "metadata": {},
     "output_type": "execute_result"
    }
   ],
   "source": [
    "y_test.replace(1,True).replace(0,False)"
   ]
  }
 ],
 "metadata": {
  "kernelspec": {
   "display_name": "Python 3 (ipykernel)",
   "language": "python",
   "name": "python3"
  },
  "language_info": {
   "codemirror_mode": {
    "name": "ipython",
    "version": 3
   },
   "file_extension": ".py",
   "mimetype": "text/x-python",
   "name": "python",
   "nbconvert_exporter": "python",
   "pygments_lexer": "ipython3",
   "version": "3.8.3"
  },
  "orig_nbformat": 4,
  "vscode": {
   "interpreter": {
    "hash": "fe05f3dfa3e8112935f33184834618a4f830bf02816b60ab873837c8caa77f6a"
   }
  }
 },
 "nbformat": 4,
 "nbformat_minor": 2
}
